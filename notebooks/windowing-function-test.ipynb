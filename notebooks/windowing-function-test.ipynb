{
 "cells": [
  {
   "cell_type": "code",
   "execution_count": 2,
   "metadata": {},
   "outputs": [],
   "source": [
    "# importação\n",
    "import pandas as pd\n",
    "import numpy as np\n",
    "from sklearn.svm import SVR\n",
    "\n",
    "import matplotlib.pyplot as plt\n",
    "%matplotlib inline\n",
    "from sklearn.metrics import mean_squared_error"
   ]
  },
  {
   "cell_type": "markdown",
   "metadata": {
    "collapsed": true
   },
   "source": [
    "## 1. Pegar dados das 3 ações bancárias ITSA4, BBS3, ABCB4 (Neste teste primeiro vamos levar em conta apenas ITSA4)\n",
    "- Pegando os dados do Yahoo Finance vou iniciar os dados\n",
    "- Cortei a base de dados dos ultimos 1000 dias\n",
    "- Coloca como index a data, para usar como série temporal"
   ]
  },
  {
   "cell_type": "code",
   "execution_count": 32,
   "metadata": {},
   "outputs": [
    {
     "data": {
      "text/plain": [
       "999"
      ]
     },
     "execution_count": 32,
     "metadata": {},
     "output_type": "execute_result"
    }
   ],
   "source": [
    "originalDataset = pd.read_csv('original-data/ITSA4-20140919-20180919.csv')\n",
    "#originalDataset['Date'] = pd.to_datetime(originalDataset['Date'])\n",
    "#originalDataset = originalDataset.set_index(['Date'])\n",
    "originalDataset.head()\n",
    "len(originalDataset)"
   ]
  },
  {
   "cell_type": "markdown",
   "metadata": {},
   "source": [
    "# 1.5 Faz o Windowing através do método\n",
    "- Coloca a função de windowing\n",
    "- Transforma o dataset em um np.array\n",
    "- Usa a função de windowing no array\n",
    "- Transforma o array em um dataset novamente"
   ]
  },
  {
   "cell_type": "code",
   "execution_count": 40,
   "metadata": {},
   "outputs": [
    {
     "name": "stdout",
     "output_type": "stream",
     "text": [
      "           date     open   open-2     high   high-2      low    low-2  \\\n",
      "2    2014-09-23  7.49124   7.7891  7.62528  7.84867  7.38699  7.60294   \n",
      "3    2014-09-24  7.40188  7.43911  7.52847  7.54336  7.34231  7.39443   \n",
      "4    2014-09-25  7.42422  7.49124   7.4689  7.62528  7.27529  7.38699   \n",
      "5    2014-09-26  7.29763  7.40188  7.61783  7.52847  7.26784  7.34231   \n",
      "6    2014-09-29  6.98487  7.42422  7.23061   7.4689  6.96998  7.27529   \n",
      "7    2014-09-30  6.99977  7.29763    7.037  7.61783  6.73169  7.26784   \n",
      "8    2014-10-01  6.80615  6.98487  6.82849  7.23061   6.6051  6.96998   \n",
      "9    2014-10-02  6.73169  6.99977  6.98487    7.037  6.67956  6.73169   \n",
      "10   2014-10-03  6.91785  6.80615  7.05189  6.82849  6.86573   6.6051   \n",
      "11   2014-10-06  7.80399  6.73169  7.95292  6.98487  7.43911  6.67956   \n",
      "12   2014-10-07  7.60294  6.91785  7.66996  7.05189  7.43167  6.86573   \n",
      "13   2014-10-08  7.62528  7.80399  7.62528  7.95292  7.23806  7.43911   \n",
      "14   2014-10-09  7.52102  7.60294  7.59549  7.66996  7.43911  7.43167   \n",
      "15   2014-10-10  7.16359  7.62528  7.16359  7.62528  7.16359  7.23806   \n",
      "16   2014-10-13  7.45401  7.52102  7.80399  7.59549  7.37954  7.43911   \n",
      "17   2014-10-14  7.59549  7.16359  7.85612  7.16359  7.54336  7.16359   \n",
      "18   2014-10-15  7.52102  7.45401   7.5657  7.80399  7.15614  7.37954   \n",
      "19   2014-10-16   7.1487  7.59549  7.39443  7.85612  7.11891  7.54336   \n",
      "20   2014-10-17  7.33486  7.52102  7.46145   7.5657   7.2455  7.15614   \n",
      "21   2014-10-20  7.26039   7.1487  7.26039  7.39443  7.26039  7.11891   \n",
      "22   2014-10-21   6.8136  7.33486   6.8136  7.46145   6.8136   7.2455   \n",
      "23   2014-10-22  6.77637  7.26039  6.94019  7.26039  6.72424  7.26039   \n",
      "24   2014-10-23  6.66467   6.8136  6.74658   6.8136  6.43383   6.8136   \n",
      "25   2014-10-24  6.55297  6.77637  6.94019  6.94019  6.45617  6.72424   \n",
      "26   2014-10-27  6.56786  6.66467  6.56786  6.74658  6.56786  6.43383   \n",
      "27   2014-10-28  6.69446  6.55297  6.85828  6.94019  6.63488  6.45617   \n",
      "28   2014-10-29  6.78382  6.56786  6.88807  6.56786  6.58276  6.56786   \n",
      "29   2014-10-30  6.79126  6.69446  7.12636  6.85828  6.75403  6.63488   \n",
      "30   2014-10-31  7.17104  6.78382  7.36465  6.88807   7.1338  6.58276   \n",
      "31   2014-11-03  7.31252  6.79126  7.40188  7.12636  7.16359  6.75403   \n",
      "..          ...      ...      ...      ...      ...      ...      ...   \n",
      "969  2018-08-07    10.91    10.78    10.96    11.04    10.62    10.77   \n",
      "970  2018-08-08     10.9    11.05       11    11.05     10.6    10.84   \n",
      "971  2018-08-09    10.63    10.91    10.73    10.96    10.41    10.62   \n",
      "972  2018-08-10    10.32     10.9    10.32       11     9.86     10.6   \n",
      "973  2018-08-13      9.9    10.63    10.09    10.73     9.74    10.41   \n",
      "974  2018-08-14     10.1    10.32    10.24    10.32    10.01     9.86   \n",
      "975  2018-08-15    10.06      9.9    10.19    10.09    10.01     9.74   \n",
      "976  2018-08-16    10.22     10.1    10.24    10.24    10.04    10.01   \n",
      "977  2018-08-17    10.02    10.06    10.08    10.19     9.91    10.01   \n",
      "978  2018-08-20      9.8    10.22     9.86    10.24     9.68    10.04   \n",
      "979  2018-08-21      9.7    10.02     9.72    10.08     9.39     9.91   \n",
      "980  2018-08-22     9.43      9.8     9.74     9.86     9.37     9.68   \n",
      "981  2018-08-23     9.72      9.7     9.76     9.72     9.34     9.39   \n",
      "982  2018-08-24     9.56     9.43     9.62     9.74     9.41     9.37   \n",
      "983  2018-08-27     9.53     9.72     9.77     9.76     9.53     9.34   \n",
      "984  2018-08-28     9.79     9.56     9.81     9.62     9.53     9.41   \n",
      "985  2018-08-29     9.61     9.53     9.87     9.77      9.6     9.53   \n",
      "986  2018-08-30     9.76     9.79     9.79     9.81     9.42     9.53   \n",
      "987  2018-08-31     9.49     9.61      9.6     9.87     9.39      9.6   \n",
      "988  2018-09-03     9.49     9.76      9.5     9.79     9.47     9.42   \n",
      "989  2018-09-04      9.5     9.49     9.54      9.6      9.3     9.39   \n",
      "990  2018-09-05      9.3     9.49     9.45      9.5     9.23     9.47   \n",
      "991  2018-09-06     9.44      9.5     9.74     9.54      9.3      9.3   \n",
      "992  2018-09-10     9.75      9.3     9.82     9.45     9.59     9.23   \n",
      "993  2018-09-11     9.52     9.44     9.52     9.74     9.29      9.3   \n",
      "994  2018-09-12      9.4     9.75     9.48     9.82     9.33     9.59   \n",
      "995  2018-09-13     9.42     9.52     9.45     9.52     9.28     9.29   \n",
      "996  2018-09-14     9.41      9.4     9.64     9.48     9.37     9.33   \n",
      "997  2018-09-17     9.55     9.42     9.79     9.45     9.53     9.28   \n",
      "998  2018-09-18     9.77     9.41     9.99     9.64     9.74     9.37   \n",
      "\n",
      "       close  close-2  \n",
      "2    7.44656  7.61783  \n",
      "3    7.49124  7.54336  \n",
      "4    7.27529  7.44656  \n",
      "5    7.54336  7.49124  \n",
      "6    7.04444  7.27529  \n",
      "7    6.90296  7.54336  \n",
      "8    6.69446  7.04444  \n",
      "9    6.86573  6.90296  \n",
      "10   7.01466  6.69446  \n",
      "11   7.47634  6.86573  \n",
      "12   7.49868  7.01466  \n",
      "13   7.40933  7.47634  \n",
      "14   7.45401  7.49868  \n",
      "15   7.16359  7.40933  \n",
      "16   7.63272  7.45401  \n",
      "17   7.73697  7.16359  \n",
      "18   7.44656  7.63272  \n",
      "19   7.17848  7.73697  \n",
      "20   7.40933  7.44656  \n",
      "21   7.26039  7.17848  \n",
      "22    6.8136  7.40933  \n",
      "23   6.77637  7.26039  \n",
      "24   6.47851   6.8136  \n",
      "25   6.67212  6.77637  \n",
      "26   6.56786  6.47851  \n",
      "27   6.82105  6.67212  \n",
      "28   6.61254  6.56786  \n",
      "29   7.11891  6.82105  \n",
      "30   7.36465  6.61254  \n",
      "31   7.32741  7.11891  \n",
      "..       ...      ...  \n",
      "969    10.85    11.03  \n",
      "970    10.62    10.87  \n",
      "971    10.41    10.85  \n",
      "972    10.01    10.62  \n",
      "973     9.96    10.41  \n",
      "974     10.2    10.01  \n",
      "975    10.18     9.96  \n",
      "976    10.08     10.2  \n",
      "977     9.95    10.18  \n",
      "978     9.72    10.08  \n",
      "979      9.5     9.95  \n",
      "980     9.71     9.72  \n",
      "981     9.45      9.5  \n",
      "982     9.49     9.71  \n",
      "983     9.76     9.45  \n",
      "984      9.6     9.49  \n",
      "985     9.87     9.76  \n",
      "986     9.43      9.6  \n",
      "987     9.59     9.87  \n",
      "988     9.47     9.43  \n",
      "989     9.36     9.59  \n",
      "990     9.36     9.47  \n",
      "991      9.7     9.36  \n",
      "992     9.69     9.36  \n",
      "993     9.29      9.7  \n",
      "994     9.35     9.69  \n",
      "995     9.41     9.29  \n",
      "996     9.63     9.35  \n",
      "997     9.78     9.41  \n",
      "998     9.91     9.63  \n",
      "\n",
      "[997 rows x 9 columns]\n"
     ]
    }
   ],
   "source": [
    "def prepareDatasetPredict5DaysAhead(dataset):\n",
    "    # create a dataset with date, open, open-7 open-6\n",
    "    values = pd.DataFrame(dataset.values)\n",
    "\n",
    "    dateColumn = values[0] # Date column\n",
    "\n",
    "    # Open Columns\n",
    "    openColumn = values[1] # Column Open\n",
    "    openOffset6Column = values[1].shift(6) # Open offset 6 column\n",
    "    openOffset7Column = values[1].shift(7) # Open offset 7 column\n",
    "\n",
    "    # High Columns\n",
    "    highColumn = values[2] \n",
    "    highOffset6Column = values[2].shift(6) # High offset 6 column\n",
    "    highOffset7Column = values[2].shift(7) # High offset 7 column\n",
    "\n",
    "    # Low Columns\n",
    "    lowColumn = values[3] # Column Open\n",
    "    lowOffset6Column = values[3].shift(6)  # Low offset 6 column\n",
    "    lowOffset7Column = values[3].shift(7) # Low offset 7 column\n",
    "\n",
    "    # Close Columns\n",
    "    closeColumn = values[4]\n",
    "    closeOffset6Column = values[4].shift(6) # Close offset 6 column\n",
    "    closeOffset7Column = values[4].shift(7) # Close offset 7 column\n",
    "\n",
    "\n",
    "    dataframe = pd.concat([dateColumn, \n",
    "                           openColumn, openOffset6Column, openOffset7Column,\n",
    "                           highColumn, highOffset6Column, highOffset7Column,\n",
    "                           lowColumn, lowOffset6Column, lowOffset7Column,\n",
    "                           closeColumn, closeOffset6Column, closeOffset7Column,\n",
    "                          ], axis=1)\n",
    "\n",
    "    dataframe.columns = ['date',\n",
    "                         'open', 'open-6', 'open-7', \n",
    "                         'high', 'high-6', 'high-7', \n",
    "                         'low', 'low-6', 'low-7',\n",
    "                         'close', 'close-6', 'close-7']\n",
    "    dataframe = dataframe.dropna()\n",
    "    return dataframe\n",
    "\n",
    "def prepareDatasetPredict22DaysAhead(dataset):\n",
    "    values = pd.DataFrame(dataset.values)\n",
    "\n",
    "    dateColumn = values[0] # Date column\n",
    "\n",
    "    # Open Columns\n",
    "    openColumn = values[1] # Column Open\n",
    "    openFirstOffsetColumn = values[1].shift(23) \n",
    "    openSecondOffsetColumn = values[1].shift(24) \n",
    "\n",
    "    # High Columns\n",
    "    highColumn = values[2] \n",
    "    highFirstOffsetColumn = values[2].shift(23) \n",
    "    highSecondOffsetColumn = values[2].shift(24) \n",
    "\n",
    "    # Low Columns\n",
    "    lowColumn = values[3] # Column Open\n",
    "    lowFirstOffsetColumn = values[3].shift(23)  \n",
    "    lowSecondOffsetColumn = values[3].shift(24) \n",
    "\n",
    "    # Close Columns\n",
    "    closeColumn = values[4]\n",
    "    closeFirstOffsetColumn = values[4].shift(23) \n",
    "    closeSecondOffsetColumn = values[4].shift(24) \n",
    "\n",
    "\n",
    "    dataframe = pd.concat([dateColumn, \n",
    "                           openColumn, openFirstOffsetColumn, openSecondOffsetColumn,\n",
    "                           highColumn, highFirstOffsetColumn, highSecondOffsetColumn,\n",
    "                           lowColumn, lowFirstOffsetColumn, lowSecondOffsetColumn,\n",
    "                           closeColumn, closeFirstOffsetColumn, closeSecondOffsetColumn,\n",
    "                          ], axis=1)\n",
    "\n",
    "    dataframe.columns = ['date',\n",
    "                         'open', 'open-23', 'open-24', \n",
    "                         'high', 'high-23', 'high-24', \n",
    "                         'low', 'low-23', 'low-24',\n",
    "                         'close', 'close-23', 'close-24']\n",
    "    dataframe = dataframe.dropna()\n",
    "    return dataframe\n",
    "\n",
    "def prepareDatasetPredict1DayAhead(dataset):\n",
    "    values = pd.DataFrame(dataset.values)\n",
    "    dateColumn = values[0] # Date column\n",
    "\n",
    "    # Open Columns\n",
    "    openColumn = values[1] # Column Open\n",
    "    openFirstOffsetColumn = values[1].shift(2) \n",
    "\n",
    "    # High Columns\n",
    "    highColumn = values[2] \n",
    "    highFirstOffsetColumn = values[2].shift(2) \n",
    "\n",
    "    # Low Columns\n",
    "    lowColumn = values[3] # Column Open\n",
    "    lowFirstOffsetColumn = values[3].shift(2)  \n",
    "\n",
    "    # Close Columns\n",
    "    closeColumn = values[4]\n",
    "    closeFirstOffsetColumn = values[4].shift(2) \n",
    "\n",
    "\n",
    "    dataframe = pd.concat([dateColumn, \n",
    "                           openColumn, openFirstOffsetColumn,\n",
    "                           highColumn, highFirstOffsetColumn,\n",
    "                           lowColumn, lowFirstOffsetColumn, \n",
    "                           closeColumn, closeFirstOffsetColumn,\n",
    "                          ], axis=1)\n",
    "\n",
    "    dataframe.columns = ['date',\n",
    "                         'open', 'open-2',\n",
    "                         'high', 'high-2',\n",
    "                         'low', 'low-2', \n",
    "                         'close', 'close-2']\n",
    "    dataframe = dataframe.dropna()\n",
    "    return dataframe\n",
    "\n",
    "#print(prepareDatasetPredict1DayAhead(dataset=originalDataset))\n",
    "#print(prepareDatasetPredict5DaysAhead(dataset=originalDataset))\n",
    "#print(prepareDatasetPredict22DaysAhead(dataset=originalDataset))"
   ]
  },
  {
   "cell_type": "code",
   "execution_count": null,
   "metadata": {},
   "outputs": [],
   "source": []
  },
  {
   "cell_type": "code",
   "execution_count": null,
   "metadata": {},
   "outputs": [],
   "source": []
  },
  {
   "cell_type": "code",
   "execution_count": null,
   "metadata": {},
   "outputs": [],
   "source": []
  },
  {
   "cell_type": "code",
   "execution_count": null,
   "metadata": {},
   "outputs": [],
   "source": []
  },
  {
   "cell_type": "code",
   "execution_count": null,
   "metadata": {},
   "outputs": [],
   "source": []
  },
  {
   "cell_type": "code",
   "execution_count": null,
   "metadata": {},
   "outputs": [],
   "source": []
  },
  {
   "cell_type": "code",
   "execution_count": null,
   "metadata": {},
   "outputs": [],
   "source": []
  },
  {
   "cell_type": "code",
   "execution_count": null,
   "metadata": {},
   "outputs": [],
   "source": []
  },
  {
   "cell_type": "code",
   "execution_count": null,
   "metadata": {},
   "outputs": [],
   "source": []
  },
  {
   "cell_type": "code",
   "execution_count": null,
   "metadata": {},
   "outputs": [],
   "source": []
  },
  {
   "cell_type": "code",
   "execution_count": null,
   "metadata": {},
   "outputs": [],
   "source": []
  },
  {
   "cell_type": "code",
   "execution_count": null,
   "metadata": {},
   "outputs": [],
   "source": []
  },
  {
   "cell_type": "code",
   "execution_count": null,
   "metadata": {},
   "outputs": [],
   "source": []
  },
  {
   "cell_type": "code",
   "execution_count": null,
   "metadata": {},
   "outputs": [],
   "source": []
  },
  {
   "cell_type": "code",
   "execution_count": null,
   "metadata": {},
   "outputs": [],
   "source": []
  },
  {
   "cell_type": "code",
   "execution_count": null,
   "metadata": {},
   "outputs": [],
   "source": []
  },
  {
   "cell_type": "code",
   "execution_count": null,
   "metadata": {},
   "outputs": [],
   "source": []
  },
  {
   "cell_type": "code",
   "execution_count": null,
   "metadata": {},
   "outputs": [],
   "source": []
  },
  {
   "cell_type": "code",
   "execution_count": null,
   "metadata": {},
   "outputs": [],
   "source": []
  },
  {
   "cell_type": "code",
   "execution_count": null,
   "metadata": {},
   "outputs": [],
   "source": []
  },
  {
   "cell_type": "code",
   "execution_count": null,
   "metadata": {},
   "outputs": [],
   "source": []
  },
  {
   "cell_type": "code",
   "execution_count": null,
   "metadata": {},
   "outputs": [],
   "source": []
  },
  {
   "cell_type": "code",
   "execution_count": null,
   "metadata": {},
   "outputs": [],
   "source": []
  },
  {
   "cell_type": "code",
   "execution_count": null,
   "metadata": {},
   "outputs": [],
   "source": []
  },
  {
   "cell_type": "code",
   "execution_count": null,
   "metadata": {},
   "outputs": [],
   "source": []
  },
  {
   "cell_type": "code",
   "execution_count": null,
   "metadata": {},
   "outputs": [],
   "source": []
  },
  {
   "cell_type": "code",
   "execution_count": null,
   "metadata": {},
   "outputs": [],
   "source": []
  },
  {
   "cell_type": "code",
   "execution_count": null,
   "metadata": {},
   "outputs": [],
   "source": []
  },
  {
   "cell_type": "code",
   "execution_count": null,
   "metadata": {},
   "outputs": [],
   "source": []
  },
  {
   "cell_type": "raw",
   "metadata": {},
   "source": []
  },
  {
   "cell_type": "code",
   "execution_count": null,
   "metadata": {},
   "outputs": [],
   "source": []
  },
  {
   "cell_type": "code",
   "execution_count": null,
   "metadata": {},
   "outputs": [],
   "source": []
  },
  {
   "cell_type": "code",
   "execution_count": null,
   "metadata": {},
   "outputs": [],
   "source": []
  },
  {
   "cell_type": "code",
   "execution_count": null,
   "metadata": {},
   "outputs": [],
   "source": []
  },
  {
   "cell_type": "code",
   "execution_count": null,
   "metadata": {},
   "outputs": [],
   "source": []
  },
  {
   "cell_type": "code",
   "execution_count": null,
   "metadata": {},
   "outputs": [],
   "source": []
  }
 ],
 "metadata": {
  "kernelspec": {
   "display_name": "Python 3",
   "language": "python",
   "name": "python3"
  },
  "language_info": {
   "codemirror_mode": {
    "name": "ipython",
    "version": 3
   },
   "file_extension": ".py",
   "mimetype": "text/x-python",
   "name": "python",
   "nbconvert_exporter": "python",
   "pygments_lexer": "ipython3",
   "version": "3.6.5"
  }
 },
 "nbformat": 4,
 "nbformat_minor": 2
}
