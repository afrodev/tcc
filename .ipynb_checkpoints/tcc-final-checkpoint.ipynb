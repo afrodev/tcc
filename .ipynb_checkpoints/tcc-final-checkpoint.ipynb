{
 "cells": [
  {
   "cell_type": "code",
   "execution_count": 50,
   "metadata": {},
   "outputs": [],
   "source": [
    "# importação\n",
    "import pandas as pd\n",
    "import numpy as np\n",
    "from sklearn.svm import SVR\n",
    "\n",
    "import matplotlib.pyplot as plt\n",
    "%matplotlib inline\n",
    "from sklearn.metrics import mean_squared_error"
   ]
  },
  {
   "cell_type": "markdown",
   "metadata": {
    "collapsed": true
   },
   "source": [
    "## 1. Pegar dados das 3 ações bancárias ITSA4, BBS3, ABCB4 (Neste teste primeiro vamos levar em conta apenas ITSA4)\n",
    "- Pegando os dados do Yahoo Finance vou iniciar os dados\n",
    "- Cortei a base de dados dos ultimos 1000 dias\n",
    "- Coloca como index a data, para usar como série temporal"
   ]
  },
  {
   "cell_type": "code",
   "execution_count": 61,
   "metadata": {},
   "outputs": [
    {
     "data": {
      "text/html": [
       "<div>\n",
       "<style scoped>\n",
       "    .dataframe tbody tr th:only-of-type {\n",
       "        vertical-align: middle;\n",
       "    }\n",
       "\n",
       "    .dataframe tbody tr th {\n",
       "        vertical-align: top;\n",
       "    }\n",
       "\n",
       "    .dataframe thead th {\n",
       "        text-align: right;\n",
       "    }\n",
       "</style>\n",
       "<table border=\"1\" class=\"dataframe\">\n",
       "  <thead>\n",
       "    <tr style=\"text-align: right;\">\n",
       "      <th></th>\n",
       "      <th>Date</th>\n",
       "      <th>Open</th>\n",
       "      <th>High</th>\n",
       "      <th>Low</th>\n",
       "      <th>Close</th>\n",
       "      <th>Adj Close</th>\n",
       "      <th>Volume</th>\n",
       "    </tr>\n",
       "  </thead>\n",
       "  <tbody>\n",
       "    <tr>\n",
       "      <th>0</th>\n",
       "      <td>2014-09-19</td>\n",
       "      <td>7.78910</td>\n",
       "      <td>7.84867</td>\n",
       "      <td>7.60294</td>\n",
       "      <td>7.61783</td>\n",
       "      <td>5.761534</td>\n",
       "      <td>21883665</td>\n",
       "    </tr>\n",
       "    <tr>\n",
       "      <th>1</th>\n",
       "      <td>2014-09-22</td>\n",
       "      <td>7.43911</td>\n",
       "      <td>7.54336</td>\n",
       "      <td>7.39443</td>\n",
       "      <td>7.54336</td>\n",
       "      <td>5.705210</td>\n",
       "      <td>15211724</td>\n",
       "    </tr>\n",
       "    <tr>\n",
       "      <th>2</th>\n",
       "      <td>2014-09-23</td>\n",
       "      <td>7.49124</td>\n",
       "      <td>7.62528</td>\n",
       "      <td>7.38699</td>\n",
       "      <td>7.44656</td>\n",
       "      <td>5.631998</td>\n",
       "      <td>20499939</td>\n",
       "    </tr>\n",
       "    <tr>\n",
       "      <th>3</th>\n",
       "      <td>2014-09-24</td>\n",
       "      <td>7.40188</td>\n",
       "      <td>7.52847</td>\n",
       "      <td>7.34231</td>\n",
       "      <td>7.49124</td>\n",
       "      <td>5.665790</td>\n",
       "      <td>10287302</td>\n",
       "    </tr>\n",
       "    <tr>\n",
       "      <th>4</th>\n",
       "      <td>2014-09-25</td>\n",
       "      <td>7.42422</td>\n",
       "      <td>7.46890</td>\n",
       "      <td>7.27529</td>\n",
       "      <td>7.27529</td>\n",
       "      <td>5.502464</td>\n",
       "      <td>15131822</td>\n",
       "    </tr>\n",
       "  </tbody>\n",
       "</table>\n",
       "</div>"
      ],
      "text/plain": [
       "         Date     Open     High      Low    Close  Adj Close    Volume\n",
       "0  2014-09-19  7.78910  7.84867  7.60294  7.61783   5.761534  21883665\n",
       "1  2014-09-22  7.43911  7.54336  7.39443  7.54336   5.705210  15211724\n",
       "2  2014-09-23  7.49124  7.62528  7.38699  7.44656   5.631998  20499939\n",
       "3  2014-09-24  7.40188  7.52847  7.34231  7.49124   5.665790  10287302\n",
       "4  2014-09-25  7.42422  7.46890  7.27529  7.27529   5.502464  15131822"
      ]
     },
     "execution_count": 61,
     "metadata": {},
     "output_type": "execute_result"
    }
   ],
   "source": [
    "originalDataset = pd.read_csv('original-data/ITSA4-20140919-20180919.csv')\n",
    "#originalDataset['Date'] = pd.to_datetime(originalDataset['Date'])\n",
    "#originalDataset = originalDataset.set_index(['Date'])\n",
    "originalDataset.head()"
   ]
  },
  {
   "cell_type": "markdown",
   "metadata": {},
   "source": [
    "# 1.5 Faz o Windowing através do método\n",
    "- Coloca a função de windowing\n",
    "- Transforma o dataset em um np.array\n",
    "- Usa a função de windowing no array\n",
    "- Transforma o array em um dataset novamente"
   ]
  },
  {
   "cell_type": "code",
   "execution_count": 66,
   "metadata": {},
   "outputs": [],
   "source": [
    "def window_stack(a, stepsize=1, width=3):\n",
    "    n = a.shape[0]\n",
    "    return np.hstack( a[i:1+n+i-width:stepsize] for i in range(0,width) )"
   ]
  },
  {
   "cell_type": "code",
   "execution_count": 75,
   "metadata": {},
   "outputs": [
    {
     "name": "stdout",
     "output_type": "stream",
     "text": [
      "[[ <bound method NDFrame.as_matrix of            Date      Open      High       Low     Close  Adj Close    Volume\n",
      "0    2014-09-19   7.78910   7.84867   7.60294   7.61783   5.761534  21883665\n",
      "1    2014-09-22   7.43911   7.54336   7.39443   7.54336   5.705210  15211724\n",
      "2    2014-09-23   7.49124   7.62528   7.38699   7.44656   5.631998  20499939\n",
      "3    2014-09-24   7.40188   7.52847   7.34231   7.49124   5.665790  10287302\n",
      "4    2014-09-25   7.42422   7.46890   7.27529   7.27529   5.502464  15131822\n",
      "5    2014-09-26   7.29763   7.61783   7.26784   7.54336   5.705210  11989296\n",
      "6    2014-09-29   6.98487   7.23061   6.96998   7.04444   5.327866  21758910\n",
      "7    2014-09-30   6.99977   7.03700   6.73169   6.90296   5.220861  34109044\n",
      "8    2014-10-01   6.80615   6.82849   6.60510   6.69446   5.063169  30347441\n",
      "9    2014-10-02   6.73169   6.98487   6.67956   6.86573   5.192704  24707386\n",
      "10   2014-10-03   6.91785   7.05189   6.86573   7.01466   5.305343  13047772\n",
      "11   2014-10-06   7.80399   7.95292   7.43911   7.47634   5.654521  35753159\n",
      "12   2014-10-07   7.60294   7.66996   7.43167   7.49868   5.671418  26005972\n",
      "13   2014-10-08   7.62528   7.62528   7.23806   7.40933   5.603840  23664354\n",
      "14   2014-10-09   7.52102   7.59549   7.43911   7.45401   5.637634  19535467\n",
      "15   2014-10-10   7.16359   7.16359   7.16359   7.16359   5.417982  13573115\n",
      "16   2014-10-13   7.45401   7.80399   7.37954   7.63272   5.772796  27158719\n",
      "17   2014-10-14   7.59549   7.85612   7.54336   7.73697   5.851641  23368109\n",
      "18   2014-10-15   7.52102   7.56570   7.15614   7.44656   5.631998  30275595\n",
      "19   2014-10-16   7.14870   7.39443   7.11891   7.17848   5.429244  21584198\n",
      "20   2014-10-17   7.33486   7.46145   7.24550   7.40933   5.603840  21500267\n",
      "21   2014-10-20   7.26039   7.26039   7.26039   7.26039   5.491193  14911317\n",
      "22   2014-10-21   6.81360   6.81360   6.81360   6.81360   5.153278  32138201\n",
      "23   2014-10-22   6.77637   6.94019   6.72424   6.77637   5.125118  18828966\n",
      "24   2014-10-23   6.66467   6.74658   6.43383   6.47851   4.899840  35769677\n",
      "25   2014-10-24   6.55297   6.94019   6.45617   6.67212   5.046271  49526232\n",
      "26   2014-10-27   6.56786   6.56786   6.56786   6.56786   4.967419  96390704\n",
      "27   2014-10-28   6.69446   6.85828   6.63488   6.82105   5.158911  31208107\n",
      "28   2014-10-29   6.78382   6.88807   6.58276   6.61254   5.001210  20987815\n",
      "29   2014-10-30   6.79126   7.12636   6.75403   7.11891   5.384188  27801567\n",
      "..          ...       ...       ...       ...       ...        ...       ...\n",
      "969  2018-08-07  10.91000  10.96000  10.62000  10.85000  10.605699  19044400\n",
      "970  2018-08-08  10.90000  11.00000  10.60000  10.62000  10.380877  20271900\n",
      "971  2018-08-09  10.63000  10.73000  10.41000  10.41000  10.175606  15211700\n",
      "972  2018-08-10  10.32000  10.32000   9.86000  10.01000   9.784613  30651600\n",
      "973  2018-08-13   9.90000  10.09000   9.74000   9.96000   9.735738  63238400\n",
      "974  2018-08-14  10.10000  10.24000  10.01000  10.20000   9.970334  19786000\n",
      "975  2018-08-15  10.06000  10.19000  10.01000  10.18000   9.950785  25063900\n",
      "976  2018-08-16  10.22000  10.24000  10.04000  10.08000   9.853036  14491100\n",
      "977  2018-08-17  10.02000  10.08000   9.91000   9.95000   9.725963  19216100\n",
      "978  2018-08-20   9.80000   9.86000   9.68000   9.72000   9.704797  22833900\n",
      "979  2018-08-21   9.70000   9.72000   9.39000   9.50000   9.485141  23809600\n",
      "980  2018-08-22   9.43000   9.74000   9.37000   9.71000   9.694812  15017800\n",
      "981  2018-08-23   9.72000   9.76000   9.34000   9.45000   9.435219  23952900\n",
      "982  2018-08-24   9.56000   9.62000   9.41000   9.49000   9.475156  14048300\n",
      "983  2018-08-27   9.53000   9.77000   9.53000   9.76000   9.744734  15421400\n",
      "984  2018-08-28   9.79000   9.81000   9.53000   9.60000   9.584985  17428700\n",
      "985  2018-08-29   9.61000   9.87000   9.60000   9.87000   9.854562  12853600\n",
      "986  2018-08-30   9.76000   9.79000   9.42000   9.43000   9.415251  22850300\n",
      "987  2018-08-31   9.49000   9.60000   9.39000   9.59000   9.575000  27422000\n",
      "988  2018-09-03   9.49000   9.50000   9.47000   9.47000   9.470000   8293000\n",
      "989  2018-09-04   9.50000   9.54000   9.30000   9.36000   9.360000  12703800\n",
      "990  2018-09-05   9.30000   9.45000   9.23000   9.36000   9.360000  16386100\n",
      "991  2018-09-06   9.44000   9.74000   9.30000   9.70000   9.700000  19729400\n",
      "992  2018-09-10   9.75000   9.82000   9.59000   9.69000   9.690000  14135200\n",
      "993  2018-09-11   9.52000   9.52000   9.29000   9.29000   9.290000  14479800\n",
      "994  2018-09-12   9.40000   9.48000   9.33000   9.35000   9.350000  19546900\n",
      "995  2018-09-13   9.42000   9.45000   9.28000   9.41000   9.410000  13919500\n",
      "996  2018-09-14   9.41000   9.64000   9.37000   9.63000   9.630000  13544000\n",
      "997  2018-09-17   9.55000   9.79000   9.53000   9.78000   9.780000  14071200\n",
      "998  2018-09-18   9.77000   9.99000   9.74000   9.91000   9.910000  26401800\n",
      "\n",
      "[999 rows x 7 columns]>]]\n"
     ]
    }
   ],
   "source": [
    "ma = np.matrix(originalDataset)\n",
    "\n",
    "print(ma)"
   ]
  },
  {
   "cell_type": "markdown",
   "metadata": {},
   "source": [
    "## 2. Converter o dataset original para a técnica de windowing (5 dias)\n",
    "- Converter dataset para o preço de **abertura(-7), abertura(-6), fechamento (-7), fechamento (-6), maximo (-7), máximo (-6), minimo (-7), mínimo (-6)**\n",
    "- Fazer corte de 70% para treino e 30% para teste"
   ]
  },
  {
   "cell_type": "code",
   "execution_count": 55,
   "metadata": {},
   "outputs": [
    {
     "name": "stdout",
     "output_type": "stream",
     "text": [
      "             Open-7   Open-6   High-7   High-6    Low-7    Low-6  Close-7  \\\n",
      "Date                                                                        \n",
      "2015-06-22  7.21671  6.97862  7.21671  7.07714  7.01967  6.96220  7.04430   \n",
      "2015-06-23  6.97862  6.98683  7.07714  7.10998  6.96220  6.92114  7.02788   \n",
      "2015-06-24  6.98683  7.12640  7.10998  7.36449  6.92114  7.06072  7.10177   \n",
      "2015-06-25  7.12640  7.30702  7.36449  7.36449  7.06072  7.19208  7.33986   \n",
      "2015-06-26  7.30702  7.25776  7.36449  7.52870  7.19208  7.19208  7.22492   \n",
      "2015-06-29  7.25776  7.35628  7.52870  7.43838  7.19208  7.26597  7.44659   \n",
      "2015-06-30  7.35628  7.37270  7.43838  7.43017  7.26597  7.31523  7.32344   \n",
      "2015-07-01  7.37270  7.38912  7.43017  7.46301  7.31523  7.33986  7.36449   \n",
      "2015-07-02  7.38912  7.37270  7.46301  7.42196  7.33986  7.30702  7.36449   \n",
      "2015-07-03  7.37270  7.34807  7.42196  7.37270  7.30702  7.16745  7.34807   \n",
      "2015-07-06  7.34807  7.24955  7.37270  7.39733  7.16745  7.22492  7.22492   \n",
      "2015-07-07  7.24955  7.27418  7.39733  7.32344  7.22492  7.17566  7.38091   \n",
      "2015-07-08  7.27418  7.30702  7.32344  7.38091  7.17566  7.26597  7.29060   \n",
      "2015-07-10  7.30702  7.37270  7.38091  7.38912  7.26597  7.22492  7.31523   \n",
      "2015-07-13  7.37270  7.37270  7.38912  7.44659  7.22492  7.29881  7.29881   \n",
      "2015-07-14  7.37270  7.34807  7.44659  7.38091  7.29881  7.25776  7.42196   \n",
      "2015-07-15  7.34807  7.22492  7.38091  7.31523  7.25776  7.14282  7.29881   \n",
      "2015-07-16  7.22492  7.19208  7.31523  7.22492  7.14282  7.09356  7.23313   \n",
      "2015-07-17  7.19208  7.17566  7.22492  7.23313  7.09356  7.11819  7.19208   \n",
      "2015-07-20  7.17566  7.33986  7.23313  7.41375  7.11819  7.24134  7.19208   \n",
      "2015-07-21  7.33986  7.43017  7.41375  7.50406  7.24134  7.35628  7.37270   \n",
      "2015-07-22  7.43017  7.35628  7.50406  7.43838  7.35628  7.30702  7.38091   \n",
      "\n",
      "            Close-6  Close-0  \n",
      "Date                          \n",
      "2015-06-22  7.02788  7.36449  \n",
      "2015-06-23  7.10177  7.36449  \n",
      "2015-06-24  7.33986  7.34807  \n",
      "2015-06-25  7.22492  7.22492  \n",
      "2015-06-26  7.44659  7.38091  \n",
      "2015-06-29  7.32344  7.29060  \n",
      "2015-06-30  7.36449  7.31523  \n",
      "2015-07-01  7.36449  7.29881  \n",
      "2015-07-02  7.34807  7.42196  \n",
      "2015-07-03  7.22492  7.29881  \n",
      "2015-07-06  7.38091  7.23313  \n",
      "2015-07-07  7.29060  7.19208  \n",
      "2015-07-08  7.31523  7.19208  \n",
      "2015-07-10  7.29881  7.37270  \n",
      "2015-07-13  7.42196  7.38091  \n",
      "2015-07-14  7.29881  7.38091  \n",
      "2015-07-15  7.23313  7.33165  \n",
      "2015-07-16  7.19208  7.33165  \n",
      "2015-07-17  7.19208  7.22492  \n",
      "2015-07-20  7.37270  7.24134  \n",
      "2015-07-21  7.38091  7.23313  \n",
      "2015-07-22  7.38091  7.12640  \n"
     ]
    }
   ],
   "source": [
    "# Dataset com todos os valores do atual até -7\n",
    "originalDataset = pd.read_csv('transformed-data/ITSA4-20140919-20180919-transformed.csv', sep=';')\n",
    "originalDataset['Date'] = pd.to_datetime(originalDataset['Date'])\n",
    "originalDataset = originalDataset.set_index(['Date'])\n",
    "# originalDataset = originalDataset.sample(frac=1)\n",
    "\n",
    "sizeDataset = 200\n",
    "trainPercent = 0.89\n",
    "\n",
    "originalDataset = originalDataset[:sizeDataset]\n",
    "\n",
    "# Atualiza apenas para valores com -7 e -6\n",
    "features = ['Open-7','Open-6','High-7','High-6', 'Low-7','Low-6', 'Close-7','Close-6', 'Close-0']\n",
    "transformedDataset = originalDataset[features]\n",
    "\n",
    "# Separação dos dados para treinamento e teste 70-30%\n",
    "lengthDataset = len(transformedDataset)\n",
    "trainLength = int(lengthDataset * trainPercent)\n",
    "\n",
    "trainDataset = transformedDataset[:trainLength]\n",
    "testDataset = transformedDataset[trainLength:lengthDataset]\n",
    "print(testDataset)"
   ]
  },
  {
   "cell_type": "markdown",
   "metadata": {},
   "source": [
    "## 3. Treinar os dados através da SVR\n",
    "- Usar os dados de entrada para treinar a Support Vector Machine\n",
    "- Separar dados de entrada e os de saída em duas variáveis"
   ]
  },
  {
   "cell_type": "code",
   "execution_count": 46,
   "metadata": {},
   "outputs": [
    {
     "name": "stdout",
     "output_type": "stream",
     "text": [
      "[LibSVM]             Open-7   Open-6   High-7   High-6    Low-7    Low-6  Close-7  \\\n",
      "Date                                                                        \n",
      "2014-09-30  7.78910  7.43911  7.84867  7.54336  7.60294  7.39443  7.61783   \n",
      "2014-10-01  7.43911  7.49124  7.54336  7.62528  7.39443  7.38699  7.54336   \n",
      "2014-10-02  7.49124  7.40188  7.62528  7.52847  7.38699  7.34231  7.44656   \n",
      "2014-10-03  7.40188  7.42422  7.52847  7.46890  7.34231  7.27529  7.49124   \n",
      "2014-10-06  7.42422  7.29763  7.46890  7.61783  7.27529  7.26784  7.27529   \n",
      "2014-10-07  7.29763  6.98487  7.61783  7.23061  7.26784  6.96998  7.54336   \n",
      "2014-10-08  6.98487  6.99977  7.23061  7.03700  6.96998  6.73169  7.04444   \n",
      "2014-10-09  6.99977  6.80615  7.03700  6.82849  6.73169  6.60510  6.90296   \n",
      "2014-10-10  6.80615  6.73169  6.82849  6.98487  6.60510  6.67956  6.69446   \n",
      "2014-10-13  6.73169  6.91785  6.98487  7.05189  6.67956  6.86573  6.86573   \n",
      "2014-10-14  6.91785  7.80399  7.05189  7.95292  6.86573  7.43911  7.01466   \n",
      "2014-10-15  7.80399  7.60294  7.95292  7.66996  7.43911  7.43167  7.47634   \n",
      "2014-10-16  7.60294  7.62528  7.66996  7.62528  7.43167  7.23806  7.49868   \n",
      "2014-10-17  7.62528  7.52102  7.62528  7.59549  7.23806  7.43911  7.40933   \n",
      "2014-10-20  7.52102  7.16359  7.59549  7.16359  7.43911  7.16359  7.45401   \n",
      "2014-10-21  7.16359  7.45401  7.16359  7.80399  7.16359  7.37954  7.16359   \n",
      "2014-10-22  7.45401  7.59549  7.80399  7.85612  7.37954  7.54336  7.63272   \n",
      "2014-10-23  7.59549  7.52102  7.85612  7.56570  7.54336  7.15614  7.73697   \n",
      "2014-10-24  7.52102  7.14870  7.56570  7.39443  7.15614  7.11891  7.44656   \n",
      "2014-10-27  7.14870  7.33486  7.39443  7.46145  7.11891  7.24550  7.17848   \n",
      "2014-10-28  7.33486  7.26039  7.46145  7.26039  7.24550  7.26039  7.40933   \n",
      "2014-10-29  7.26039  6.81360  7.26039  6.81360  7.26039  6.81360  7.26039   \n",
      "2014-10-30  6.81360  6.77637  6.81360  6.94019  6.81360  6.72424  6.81360   \n",
      "2014-10-31  6.77637  6.66467  6.94019  6.74658  6.72424  6.43383  6.77637   \n",
      "2014-11-03  6.66467  6.55297  6.74658  6.94019  6.43383  6.45617  6.47851   \n",
      "2014-11-04  6.55297  6.56786  6.94019  6.56786  6.45617  6.56786  6.67212   \n",
      "2014-11-05  6.56786  6.69446  6.56786  6.85828  6.56786  6.63488  6.56786   \n",
      "2014-11-06  6.69446  6.78382  6.85828  6.88807  6.63488  6.58276  6.82105   \n",
      "2014-11-07  6.78382  6.79126  6.88807  7.12636  6.58276  6.75403  6.61254   \n",
      "2014-11-10  6.79126  7.17104  7.12636  7.36465  6.75403  7.13380  7.11891   \n",
      "...             ...      ...      ...      ...      ...      ...      ...   \n",
      "2015-05-08  8.12803  7.97876  8.15043  7.98622  7.97130  7.87427  8.01608   \n",
      "2015-05-11  7.97876  7.97130  7.98622  8.03847  7.87427  7.83695  7.97876   \n",
      "2015-05-12  7.97130  8.03847  8.03847  8.10564  7.83695  7.97130  7.91905   \n",
      "2015-05-13  8.03847  7.88994  8.10564  8.05414  7.97130  7.81605  7.99369   \n",
      "2015-05-14  7.88994  7.92278  8.05414  7.98846  7.81605  7.66006  7.89815   \n",
      "2015-05-15  7.92278  7.79963  7.98846  7.88173  7.66006  7.69290  7.81605   \n",
      "2015-05-18  7.79963  7.92278  7.88173  7.99667  7.69290  7.80784  7.86531   \n",
      "2015-05-19  7.92278  7.96383  7.99667  8.02951  7.80784  7.90636  7.97204   \n",
      "2015-05-20  7.96383  7.93920  8.02951  8.00488  7.90636  7.89815  7.99667   \n",
      "2015-05-21  7.93920  7.92278  8.00488  7.95562  7.89815  7.75858  7.92278   \n",
      "2015-05-22  7.92278  7.79963  7.95562  7.88994  7.75858  7.74216  7.77500   \n",
      "2015-05-25  7.79963  7.84068  7.88994  7.95562  7.74216  7.77500  7.84068   \n",
      "2015-05-26  7.84068  7.97204  7.95562  7.97204  7.77500  7.70932  7.92278   \n",
      "2015-05-27  7.97204  7.78321  7.97204  7.81605  7.70932  7.63543  7.82426   \n",
      "2015-05-28  7.78321  7.63543  7.81605  7.71753  7.63543  7.58617  7.70111   \n",
      "2015-05-29  7.63543  7.56154  7.71753  7.61080  7.58617  7.47122  7.62722   \n",
      "2015-06-01  7.56154  7.49585  7.61080  7.57796  7.47122  7.38091  7.61080   \n",
      "2015-06-02  7.49585  7.39733  7.57796  7.54512  7.38091  7.36449  7.38912   \n",
      "2015-06-03  7.39733  7.42196  7.54512  7.47122  7.36449  7.30702  7.47122   \n",
      "2015-06-05  7.42196  7.38912  7.47122  7.55333  7.30702  7.30702  7.34807   \n",
      "2015-06-08  7.38912  7.45480  7.55333  7.51227  7.30702  7.39733  7.52870   \n",
      "2015-06-09  7.45480  7.49585  7.51227  7.49585  7.39733  7.23313  7.48764   \n",
      "2015-06-10  7.49585  7.26597  7.49585  7.33165  7.23313  7.18387  7.24134   \n",
      "2015-06-11  7.26597  7.26597  7.33165  7.47943  7.18387  7.26597  7.23313   \n",
      "2015-06-12  7.26597  7.45480  7.47943  7.45480  7.26597  7.28239  7.45480   \n",
      "2015-06-15  7.45480  7.25776  7.45480  7.29881  7.28239  7.06072  7.29060   \n",
      "2015-06-16  7.25776  7.10177  7.29881  7.15924  7.06072  7.06072  7.06072   \n",
      "2015-06-17  7.10177  7.10177  7.15924  7.23313  7.06072  7.06072  7.08535   \n",
      "2015-06-18  7.10177  7.20029  7.23313  7.29060  7.06072  7.11819  7.10177   \n",
      "2015-06-19  7.20029  7.21671  7.29060  7.21671  7.11819  7.01967  7.15103   \n",
      "\n",
      "            Close-6  \n",
      "Date                 \n",
      "2014-09-30  7.54336  \n",
      "2014-10-01  7.44656  \n",
      "2014-10-02  7.49124  \n",
      "2014-10-03  7.27529  \n",
      "2014-10-06  7.54336  \n",
      "2014-10-07  7.04444  \n",
      "2014-10-08  6.90296  \n",
      "2014-10-09  6.69446  \n",
      "2014-10-10  6.86573  \n",
      "2014-10-13  7.01466  \n",
      "2014-10-14  7.47634  \n",
      "2014-10-15  7.49868  \n",
      "2014-10-16  7.40933  \n",
      "2014-10-17  7.45401  \n",
      "2014-10-20  7.16359  \n",
      "2014-10-21  7.63272  \n",
      "2014-10-22  7.73697  \n",
      "2014-10-23  7.44656  \n",
      "2014-10-24  7.17848  \n",
      "2014-10-27  7.40933  \n",
      "2014-10-28  7.26039  \n",
      "2014-10-29  6.81360  \n",
      "2014-10-30  6.77637  \n",
      "2014-10-31  6.47851  \n",
      "2014-11-03  6.67212  \n",
      "2014-11-04  6.56786  \n",
      "2014-11-05  6.82105  \n",
      "2014-11-06  6.61254  \n",
      "2014-11-07  7.11891  \n",
      "2014-11-10  7.36465  \n",
      "...             ...  \n",
      "2015-05-08  7.97876  \n",
      "2015-05-11  7.91905  \n",
      "2015-05-12  7.99369  \n",
      "2015-05-13  7.89815  \n",
      "2015-05-14  7.81605  \n",
      "2015-05-15  7.86531  \n",
      "2015-05-18  7.97204  \n",
      "2015-05-19  7.99667  \n",
      "2015-05-20  7.92278  \n",
      "2015-05-21  7.77500  \n",
      "2015-05-22  7.84068  \n",
      "2015-05-25  7.92278  \n",
      "2015-05-26  7.82426  \n",
      "2015-05-27  7.70111  \n",
      "2015-05-28  7.62722  \n",
      "2015-05-29  7.61080  \n",
      "2015-06-01  7.38912  \n",
      "2015-06-02  7.47122  \n",
      "2015-06-03  7.34807  \n",
      "2015-06-05  7.52870  \n",
      "2015-06-08  7.48764  \n",
      "2015-06-09  7.24134  \n",
      "2015-06-10  7.23313  \n",
      "2015-06-11  7.45480  \n",
      "2015-06-12  7.29060  \n",
      "2015-06-15  7.06072  \n",
      "2015-06-16  7.08535  \n",
      "2015-06-17  7.10177  \n",
      "2015-06-18  7.15103  \n",
      "2015-06-19  7.04430  \n",
      "\n",
      "[178 rows x 8 columns]\n",
      "[ 6.90296  6.69446  6.86573  7.01466  7.47634  7.49868  7.40933  7.45401\n",
      "  7.16359  7.63272  7.73697  7.44656  7.17848  7.40933  7.26039  6.8136\n",
      "  6.77637  6.47851  6.67212  6.56786  6.82105  6.61254  7.11891  7.36465\n",
      "  7.32741  7.46145  7.41677  7.14125  7.26039  7.26039  7.22316  7.29763\n",
      "  7.037    7.11146  7.037    7.23806  7.52102  7.96037  7.80399  7.95292\n",
      "  7.83378  7.77421  7.81889  7.40188  7.39443  7.46145  7.29763  7.45401\n",
      "  7.17104  7.23806  7.10402  7.19338  6.8136   6.67212  6.66467  7.04444\n",
      "  6.99977  7.14125  7.16359  7.17104  7.05934  7.08168  6.99232  6.82849\n",
      "  6.85083  6.90296  7.16359  7.23806  6.98487  6.86573  6.88807  6.9253\n",
      "  6.91041  7.037    6.7168   6.85083  7.12636  7.20082  7.1487   7.14125\n",
      "  7.14125  6.99232  6.94764  6.80615  6.87317  7.09657  7.3572   7.3572\n",
      "  7.44656  7.39443  7.29763  7.01593  7.1055   7.3518   7.46376  7.44883\n",
      "  7.46376  7.51601  7.58318  7.61304  7.65782  7.53093  7.4563   7.47122\n",
      "  7.41151  7.38166  7.22492  7.03833  6.86666  7.09804  7.12789  7.07564\n",
      "  7.09804  7.2697   7.55333  7.56079  7.53093  7.52347  7.50854  7.56079\n",
      "  7.34434  7.20253  7.42644  7.44883  7.71006  7.84441  7.98622  7.9713\n",
      "  7.95637  7.80709  7.85934  7.85188  7.81456  7.93398  7.89666  7.80709\n",
      "  7.72499  7.7847   7.87427  8.1355   8.06832  8.01608  7.97876  7.91905\n",
      "  7.99369  7.89815  7.81605  7.86531  7.97204  7.99667  7.92278  7.775\n",
      "  7.84068  7.92278  7.82426  7.70111  7.62722  7.6108   7.38912  7.47122\n",
      "  7.34807  7.5287   7.48764  7.24134  7.23313  7.4548   7.2906   7.06072\n",
      "  7.08535  7.10177  7.15103  7.0443   7.02788  7.10177  7.33986  7.22492\n",
      "  7.44659  7.32344]\n"
     ]
    }
   ],
   "source": [
    "# Separando dados de entrada e de saída\n",
    "inputFeatures = ['Open-7','Open-6','High-7','High-6', 'Low-7','Low-6', 'Close-7','Close-6']\n",
    "outputFeatures = ['Close-0']\n",
    "x_input = trainDataset[inputFeatures]\n",
    "y_output = trainDataset[outputFeatures].values.ravel()\n",
    "\n",
    "# Treinando dados de entrada \n",
    "svr_rbf = SVR(kernel='rbf', verbose=True)\n",
    "trainedModel = svr_rbf.fit(x_input, y_output)\n",
    "print(x_input)\n",
    "print(y_output)"
   ]
  },
  {
   "cell_type": "markdown",
   "metadata": {},
   "source": [
    "## 4. Comparar dados de teste reais e os preditos\n",
    "- Pegar os 30% de teste separar em valores de entrada apenas e colocar no modelo\n",
    "- Colocar os valores preditos em um array\n",
    "- Colocar os valores reais em outro array\n",
    "- Colocar os dois em um gráfico"
   ]
  },
  {
   "cell_type": "code",
   "execution_count": 47,
   "metadata": {},
   "outputs": [
    {
     "data": {
      "text/plain": [
       "0.012827737930717025"
      ]
     },
     "execution_count": 47,
     "metadata": {},
     "output_type": "execute_result"
    }
   ],
   "source": [
    "# Separando os dados de entrada e os de saída\n",
    "x_input_test = testDataset[inputFeatures]\n",
    "y_original_values = testDataset[outputFeatures].values.ravel()\n",
    "\n",
    "# Prediz valores do dataset de teste\n",
    "y_predicted_values = trainedModel.predict(x_input_test)\n",
    "\n",
    "# Criar um dataset novo com dados originais e os preditos\n",
    "data = {'date': testDataset.index, 'real': y_original_values, 'predicted': y_predicted_values}\n",
    "dataFrameCompared = pd.DataFrame(data=data)\n",
    "x_input_test.head()\n",
    "\n",
    "mean_squared_error(dataFrameCompared.real, dataFrameCompared.predicted) "
   ]
  },
  {
   "cell_type": "markdown",
   "metadata": {},
   "source": [
    "## 5. Plotando gráfico (5 dias a frente)"
   ]
  },
  {
   "cell_type": "code",
   "execution_count": 48,
   "metadata": {},
   "outputs": [
    {
     "data": {
      "image/png": "[encoded data removed]",
      "text/plain": [
       "<matplotlib.figure.Figure at 0x11543f9e8>"
      ]
     },
     "metadata": {},
     "output_type": "display_data"
    }
   ],
   "source": [
    "fig = plt.gcf()\n",
    "fig.set_size_inches(18.5, 10.5, forward=True)\n",
    "\n",
    "plt.plot(dataFrameCompared.index, dataFrameCompared.real, color='navy', lw=2, label='REAL')\n",
    "plt.plot(dataFrameCompared.index, dataFrameCompared.predicted, color='green', lw=2, label='PREDITO')\n",
    "\n",
    "plt.title('Support Vector Regression')\n",
    "plt.legend()\n",
    "plt.show()"
   ]
  },
  {
   "cell_type": "markdown",
   "metadata": {},
   "source": [
    "## 6. MAPE Mean Square Error"
   ]
  },
  {
   "cell_type": "code",
   "execution_count": 49,
   "metadata": {},
   "outputs": [
    {
     "name": "stdout",
     "output_type": "stream",
     "text": [
      "1.2942014321\n"
     ]
    }
   ],
   "source": [
    "def mean_absolute_percentage_error(y_true, y_pred): \n",
    "    y_true, y_pred = np.array(y_true), np.array(y_pred)\n",
    "    return np.mean(np.abs((y_true - y_pred) / y_true)) * 100\n",
    "\n",
    "print(mean_absolute_percentage_error(dataFrameCompared.real, dataFrameCompared.predicted))"
   ]
  },
  {
   "cell_type": "code",
   "execution_count": null,
   "metadata": {},
   "outputs": [],
   "source": []
  },
  {
   "cell_type": "code",
   "execution_count": null,
   "metadata": {},
   "outputs": [],
   "source": []
  },
  {
   "cell_type": "code",
   "execution_count": null,
   "metadata": {},
   "outputs": [],
   "source": []
  },
  {
   "cell_type": "code",
   "execution_count": null,
   "metadata": {},
   "outputs": [],
   "source": []
  },
  {
   "cell_type": "code",
   "execution_count": null,
   "metadata": {},
   "outputs": [],
   "source": []
  },
  {
   "cell_type": "code",
   "execution_count": null,
   "metadata": {},
   "outputs": [],
   "source": []
  },
  {
   "cell_type": "code",
   "execution_count": null,
   "metadata": {},
   "outputs": [],
   "source": []
  },
  {
   "cell_type": "code",
   "execution_count": null,
   "metadata": {},
   "outputs": [],
   "source": []
  },
  {
   "cell_type": "code",
   "execution_count": null,
   "metadata": {},
   "outputs": [],
   "source": []
  },
  {
   "cell_type": "code",
   "execution_count": null,
   "metadata": {},
   "outputs": [],
   "source": []
  },
  {
   "cell_type": "code",
   "execution_count": null,
   "metadata": {},
   "outputs": [],
   "source": []
  },
  {
   "cell_type": "code",
   "execution_count": null,
   "metadata": {},
   "outputs": [],
   "source": []
  },
  {
   "cell_type": "code",
   "execution_count": null,
   "metadata": {},
   "outputs": [],
   "source": []
  },
  {
   "cell_type": "code",
   "execution_count": null,
   "metadata": {},
   "outputs": [],
   "source": []
  },
  {
   "cell_type": "code",
   "execution_count": null,
   "metadata": {},
   "outputs": [],
   "source": []
  },
  {
   "cell_type": "code",
   "execution_count": null,
   "metadata": {},
   "outputs": [],
   "source": []
  }
 ],
 "metadata": {
  "kernelspec": {
   "display_name": "Python 3",
   "language": "python",
   "name": "python3"
  },
  "language_info": {
   "codemirror_mode": {
    "name": "ipython",
    "version": 3
   },
   "file_extension": ".py",
   "mimetype": "text/x-python",
   "name": "python",
   "nbconvert_exporter": "python",
   "pygments_lexer": "ipython3",
   "version": "3.6.5"
  }
 },
 "nbformat": 4,
 "nbformat_minor": 2
}
